{
 "cells": [
  {
   "cell_type": "code",
   "execution_count": null,
   "id": "6098d912",
   "metadata": {
    "vscode": {
     "languageId": "plaintext"
    }
   },
   "outputs": [],
   "source": [
    "# 📌 SETUP: Install QuTiP if needed\n",
    "!pip install qutip --quiet\n",
    "\n",
    "# 📚 IMPORTS\n",
    "import numpy as np\n",
    "import matplotlib.pyplot as plt\n",
    "from qutip import *\n",
    "\n",
    "# 🎯 PARAMETERS\n",
    "tlist = np.linspace(0, 5, 150)\n",
    "g = 1.5                      # interaction strength\n",
    "delta_Ic = np.log(2)\n",
    "\n",
    "# SYSTEM: spin-1/2\n",
    "up = basis(2, 0)\n",
    "down = basis(2, 1)\n",
    "spin_superposition = (up + down).unit()\n",
    "\n",
    "# MEASUREMENT DEVICE: two-level system\n",
    "M0 = basis(2, 0)\n",
    "M1 = basis(2, 1)\n",
    "M_init = M0\n",
    "\n",
    "# COMPOSITE SYSTEM: spin + device\n",
    "psi0 = tensor(spin_superposition, M_init)\n",
    "H_int = g * tensor(sigmaz(), sigmax())  # interaction Hamiltonian\n",
    "\n",
    "# EVOLVE SYSTEM\n",
    "result = mesolve(H_int, psi0, tlist, [], [])\n",
    "\n",
    "# CALCULATE SPIN REDUCED STATE & ENTROPY\n",
    "entropy_list = []\n",
    "for state in result.states:\n",
    "    rho_spin = state.ptrace(0)  # partial trace over measurement device\n",
    "    entropy_list.append(entropy_vn(rho_spin))\n",
    "\n",
    "# PLOT\n",
    "plt.figure(figsize=(8,5))\n",
    "plt.plot(tlist, entropy_list, label='Entropy of Spin Subsystem')\n",
    "plt.axhline(y=delta_Ic, color='red', linestyle='--', label='Collapse Threshold δIc = log(2)')\n",
    "plt.xlabel('Time')\n",
    "plt.ylabel('Von Neumann Entropy')\n",
    "plt.title('Entropy Evolution During Spin Measurement')\n",
    "plt.legend()\n",
    "plt.grid(True)\n",
    "plt.tight_layout()\n",
    "plt.show()\n"
   ]
  }
 ],
 "metadata": {
  "language_info": {
   "name": "python"
  }
 },
 "nbformat": 4,
 "nbformat_minor": 5
}
