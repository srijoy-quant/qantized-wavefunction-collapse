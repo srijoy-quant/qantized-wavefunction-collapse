{
 "cells": [
  {
   "cell_type": "code",
   "execution_count": null,
   "id": "20c35ee8",
   "metadata": {
    "vscode": {
     "languageId": "plaintext"
    }
   },
   "outputs": [],
   "source": [
    "# 📌 SETUP: Install QuTiP if needed\n",
    "!pip install qutip --quiet\n",
    "\n",
    "# 📚 IMPORTS\n",
    "import numpy as np\n",
    "import matplotlib.pyplot as plt\n",
    "from qutip import *\n",
    "\n",
    "# 🎯 PARAMETERS\n",
    "g_values = np.linspace(0, 2 * np.pi, 100)  # entanglement strength values\n",
    "delta_Ic = np.log(2)\n",
    "entropy_list = []\n",
    "\n",
    "# ⏹️ BASIS STATES\n",
    "up = basis(2, 0)\n",
    "down = basis(2, 1)\n",
    "zero = basis(2, 0)\n",
    "\n",
    "# INITIAL STATE: (|↑> + |↓>) ⊗ |0>\n",
    "psi0 = tensor((up + down).unit(), zero)\n",
    "\n",
    "# ⏳ LOOP: Apply controlled-RY gate for varying g\n",
    "for g in g_values:\n",
    "    # Controlled-RY gate\n",
    "    ry = Qobj([[np.cos(g/2), -np.sin(g/2)],\n",
    "               [np.sin(g/2), np.cos(g/2)]])\n",
    "    \n",
    "    # Controlled gate: if spin=|↓⟩, apply RY to environment\n",
    "    P0 = ket2dm(up)   # projector onto |↑>\n",
    "    P1 = ket2dm(down) # projector onto |↓>\n",
    "    U = tensor(P0, qeye(2)) + tensor(P1, ry)  # CRY gate\n",
    "\n",
    "    # Apply gate to initial state\n",
    "    psi_out = U * psi0\n",
    "    rho_out = ket2dm(psi_out)\n",
    "    \n",
    "    # Trace out environment to get spin state\n",
    "    rho_spin = rho_out.ptrace(0)\n",
    "    entropy_list.append(entropy_vn(rho_spin))\n",
    "\n",
    "# 🧾 PLOT\n",
    "plt.figure(figsize=(8,5))\n",
    "plt.plot(g_values, entropy_list, label='Entropy of Spin Subsystem')\n",
    "plt.axhline(y=delta_Ic, color='red', linestyle='--', label='Collapse Threshold δIc = log(2)')\n",
    "plt.xlabel('Entanglement Strength g')\n",
    "plt.ylabel('Von Neumann Entropy')\n",
    "plt.title('Entropy vs. Entanglement Strength in Partial Collapse')\n",
    "plt.legend()\n",
    "plt.grid(True)\n",
    "plt.tight_layout()\n",
    "plt.show()\n"
   ]
  }
 ],
 "metadata": {
  "language_info": {
   "name": "python"
  }
 },
 "nbformat": 4,
 "nbformat_minor": 5
}
