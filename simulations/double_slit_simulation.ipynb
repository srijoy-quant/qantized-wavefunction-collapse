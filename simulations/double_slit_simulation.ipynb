{
 "cells": [
  {
   "cell_type": "code",
   "execution_count": null,
   "id": "05576d74",
   "metadata": {
    "vscode": {
     "languageId": "plaintext"
    }
   },
   "outputs": [],
   "source": [
    "# 📌 SETUP: Install QuTiP if not already installed\n",
    "!pip install qutip --quiet\n",
    "\n",
    "# 📚 IMPORTS\n",
    "import numpy as np\n",
    "import matplotlib.pyplot as plt\n",
    "from qutip import *\n",
    "\n",
    "# 🎯 PARAMETERS\n",
    "tlist = np.linspace(0, 10, 200)       # time evolution points\n",
    "gamma = 0.5                           # decoherence rate\n",
    "delta_Ic = np.log(2)                  # collapse threshold (entropy)\n",
    "\n",
    "# 🧱 INITIAL STATE: |ψ> = (|L> + |R>)/sqrt(2)\n",
    "left = basis(2, 0)\n",
    "right = basis(2, 1)\n",
    "psi0 = (left + right).unit()\n",
    "rho0 = ket2dm(psi0)\n",
    "\n",
    "# ⚙️ HAMILTONIAN (free evolution)\n",
    "H = 0 * sigmaz()\n",
    "\n",
    "# 🌫️ LINDBLAD OPERATOR: decoherence in |L>, |R> basis\n",
    "c_ops = [np.sqrt(gamma) * sigmaz()]\n",
    "\n",
    "# 🚀 EVOLUTION\n",
    "result = mesolve(H, rho0, tlist, c_ops, [])\n",
    "\n",
    "# 📊 ENTROPY CALCULATION\n",
    "entropy_list = [entropy_vn(rho) for rho in result.states]\n",
    "\n",
    "# 📈 PLOTTING\n",
    "plt.figure(figsize=(8,5))\n",
    "plt.plot(tlist, entropy_list, label='Von Neumann Entropy S(ρ)', linewidth=2)\n",
    "plt.axhline(y=delta_Ic, color='red', linestyle='--', label='Collapse Threshold δIc = log(2)')\n",
    "plt.xlabel('Time')\n",
    "plt.ylabel('Entropy')\n",
    "plt.title('Entropy Evolution in Double-Slit Analogue')\n",
    "plt.legend()\n",
    "plt.grid(True)\n",
    "plt.tight_layout()\n",
    "plt.show()\n"
   ]
  }
 ],
 "metadata": {
  "language_info": {
   "name": "python"
  }
 },
 "nbformat": 4,
 "nbformat_minor": 5
}
